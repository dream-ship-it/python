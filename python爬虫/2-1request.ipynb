{
 "cells": [
  {
   "cell_type": "markdown",
   "metadata": {},
   "source": [
    "## requests模块  \n",
    "python中原生的一款基于网络请求的模块，功能非常强大，简单便捷，效率极高  \n",
    "作用：模拟浏览器发请求  \n",
    "\n",
    "- 如何使用(requests模块的编码流程)\n",
    "  1. 指定url\n",
    "  2. 发起请求\n",
    "  3. 获取响应数据\n",
    "  4. 持久化存储"
   ]
  },
  {
   "cell_type": "code",
   "execution_count": 5,
   "metadata": {},
   "outputs": [
    {
     "name": "stdout",
     "output_type": "stream",
     "text": [
      "<!DOCTYPE html><html lang=\"cn\"><head> <meta name=\"baidu_union_verify\" content=\"efd6e8ce094119528f66c2d380f6ec94\">\n",
      "<meta name='360_ssp_verify' content='651669fb99b77a4e4efae7ec25d6796a' /> <meta name=\"viewport\" content=\"width=device-width,minimum-scale=1,maximum-scale=1,user-scalable=no\"><script>wind\n"
     ]
    }
   ],
   "source": [
    "# 一个简单的爬取界面数据例子\n",
    "# Sogou首页数据\n",
    "import requests\n",
    "\n",
    "# 指定url\n",
    "url = 'https://www.sogou.com/'\n",
    "# 发起请求\n",
    "resp = requests.get(url=url)\n",
    "# 获取响应数据\n",
    "page_text = resp.text\n",
    "print(page_text[:300])\n",
    "# 持久化存储\n",
    "with open('./2-1sogou.html', 'w', encoding='utf-8') as fp:\n",
    "    fp.write(page_text)\n",
    "print(\"爬取数据结束\")\n"
   ]
  }
 ],
 "metadata": {
  "kernelspec": {
   "display_name": "Python 3.10.0 ('venv': venv)",
   "language": "python",
   "name": "python3"
  },
  "language_info": {
   "codemirror_mode": {
    "name": "ipython",
    "version": 3
   },
   "file_extension": ".py",
   "mimetype": "text/x-python",
   "name": "python",
   "nbconvert_exporter": "python",
   "pygments_lexer": "ipython3",
   "version": "3.10.0"
  },
  "orig_nbformat": 4,
  "vscode": {
   "interpreter": {
    "hash": "22653fad1ec7eb65fd39a07313161974f5ef37b5e809feadcebc71d4fb2e1ad2"
   }
  }
 },
 "nbformat": 4,
 "nbformat_minor": 2
}
