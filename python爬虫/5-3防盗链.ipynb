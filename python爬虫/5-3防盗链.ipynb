{
 "cells": [
  {
   "cell_type": "markdown",
   "metadata": {},
   "source": [
    "## 防盗链\n",
    "- 我们日常访问网页，如果从一个网页跳转到另一个网页，http 头字段里面会带个 Referer的参数。那么图片服务器通过检测 Referer 是否来自指定域名，来进行防盗链。\n",
    "- 简单点说，服务器会判断你是否从规定的域名来访问图片或者视频，如果是那么就正常显示，不是的话，会跳转到别的地方，那么我们用爬虫所采集的图片就会出现问题！"
   ]
  },
  {
   "cell_type": "code",
   "execution_count": 9,
   "metadata": {},
   "outputs": [],
   "source": [
    "import requests\n",
    "\n",
    "# 1.拿到contID\n",
    "\n",
    "# 视频链接地址，可以换\n",
    "url = \"https://www.pearvideo.com/video_1058399\"\n",
    "\n",
    "contID = url.split(\"_\")[1]\n",
    "\n",
    "videoStatusUrl = f\"https://www.pearvideo.com/videoStatus.jsp?contId={contID}&mrd=0.017837676297309146\"\n",
    "\n",
    "headers = {\n",
    "    'User-Agent':'Mozilla/5.0 (Windows NT 10.0; Win64; x64) AppleWebKit/537.36 (KHTML, like Gecko) Chrome/105.0.0.0 Safari/537.36',\n",
    "    # 防盗链：溯源，查看跳转前的网页\n",
    "    'Referer': url\n",
    "}\n",
    "\n",
    "resp = requests.get(url=videoStatusUrl, headers=headers)\n",
    "\n",
    "dic = resp.json()\n",
    "srcUrl = dic['videoInfo']['videos']['srcUrl']\n",
    "systemTime = dic['systemTime']\n",
    "\n",
    "srcUrl = srcUrl.replace(systemTime, f\"cont-{contID}\")\n",
    "\n",
    "# 下载对应的视频\n",
    "with open('5-3爬取的视频.mp4', mode='wb') as fp:\n",
    "    fp.write(requests.get(srcUrl).content)\n"
   ]
  }
 ],
 "metadata": {
  "kernelspec": {
   "display_name": "Python 3.10.0 ('venv': venv)",
   "language": "python",
   "name": "python3"
  },
  "language_info": {
   "codemirror_mode": {
    "name": "ipython",
    "version": 3
   },
   "file_extension": ".py",
   "mimetype": "text/x-python",
   "name": "python",
   "nbconvert_exporter": "python",
   "pygments_lexer": "ipython3",
   "version": "3.10.0"
  },
  "orig_nbformat": 4,
  "vscode": {
   "interpreter": {
    "hash": "22653fad1ec7eb65fd39a07313161974f5ef37b5e809feadcebc71d4fb2e1ad2"
   }
  }
 },
 "nbformat": 4,
 "nbformat_minor": 2
}
