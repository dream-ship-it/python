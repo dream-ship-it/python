{
 "cells": [
  {
   "cell_type": "markdown",
   "metadata": {},
   "source": [
    "## 国家药监管总局\n",
    "\n",
    "- 网站信息\n",
    "http://scxk.nmpa.gov.cn:81/xk/\n",
    "\n",
    "- 动态加载数据\n",
    "如何获取动态加载的数据 \n",
    "企业中的数据是对ajax动态请求获取的\n",
    "\n",
    "- 对详情页的url的观察发现：\n",
    "url的域名都是一样的，只有携带的参数id不同\n",
    "\n",
    "- 详情页的企业的数据也是动态加载出来的\n",
    "    观察后发现，如果我们可以批量获取多家企业的id后，\n",
    "    就可以将id和url拼接成一个详情页对应的\n",
    "\n"
   ]
  },
  {
   "cell_type": "code",
   "execution_count": null,
   "metadata": {},
   "outputs": [],
   "source": [
    "'''\n",
    "    基于老方法实现的爬虫:\n",
    "    由于网站更新下面方法不能实现\n",
    "    仅作为基于动态url获取id后动态获取数据的参考方式\n",
    "    \n",
    "    后面有时间会将新的方法补上\n",
    "'''\n",
    "\n",
    "import requests\n",
    "import json\n",
    "\n",
    "headers = {\n",
    "    'User-Agent':'Mozilla/5.0 (Windows NT 10.0; Win64; x64) AppleWebKit/537.36 (KHTML, like Gecko) Chrome/105.0.0.0 Safari/537.36'\n",
    "}\n",
    "# 用于存储企业的ids\n",
    "id_list = []\n",
    "# 存储所有企业的详情数据\n",
    "all_data_list = []\n",
    "# 批量获取不同企业的id值\n",
    "url = 'http://scxk.nmpa.gov.cn:81/xk/itownet/portalAction.do?method=getXkzsList'\n",
    "for page in range(1,6):\n",
    "    page = str(page)\n",
    "    # 参数的封装\n",
    "    data = {\n",
    "        'on': 'true',\n",
    "        'page': page,\n",
    "        'pageSize': '15',\n",
    "        'productName': '',\n",
    "        'conditionType': '1',\n",
    "        'applyname': '',\n",
    "        'applysn': ''\n",
    "    }\n",
    "\n",
    "    # 获取id\n",
    "    json_ids = requests.post(url=url, headers=headers, data=data).json()\n",
    "    for dic in json_ids['list']:\n",
    "        id_list.append(dic['ID'])\n",
    "\n",
    "# 获取企业详情数据\n",
    "post_url = 'http://scxk.nmpa.gov.cn:81/xk/itownet/portalAction.do?method=getXkzsById'\n",
    "for id in id_list:\n",
    "    data = {\n",
    "        'id':id\n",
    "    }\n",
    "    detail_json = requests.post(url=post_url, headers=headers, data=data).json()\n",
    "    # print(detail_json)\n",
    "    all_data_list.append(detail_json)\n",
    "\n",
    "# 持久化存储all_data_list\n",
    "fp = open('./2-6allData.json','w',encoding='utf-8')\n",
    "\n",
    "json.dump(all_data_list, fp=fp, ensure_ascii=False)\n",
    "\n",
    "print('over!!!')"
   ]
  },
  {
   "cell_type": "code",
   "execution_count": null,
   "metadata": {},
   "outputs": [],
   "source": [
    "'''\n",
    "    新的爬虫\n",
    "    由于网页升级\n",
    "    需要对爬虫进行改进\n",
    "'''"
   ]
  }
 ],
 "metadata": {
  "kernelspec": {
   "display_name": "Python 3.10.0 ('venv': venv)",
   "language": "python",
   "name": "python3"
  },
  "language_info": {
   "codemirror_mode": {
    "name": "ipython",
    "version": 3
   },
   "file_extension": ".py",
   "mimetype": "text/x-python",
   "name": "python",
   "nbconvert_exporter": "python",
   "pygments_lexer": "ipython3",
   "version": "3.10.0"
  },
  "orig_nbformat": 4,
  "vscode": {
   "interpreter": {
    "hash": "22653fad1ec7eb65fd39a07313161974f5ef37b5e809feadcebc71d4fb2e1ad2"
   }
  }
 },
 "nbformat": 4,
 "nbformat_minor": 2
}
