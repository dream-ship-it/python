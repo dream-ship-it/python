{
 "cells": [
  {
   "cell_type": "markdown",
   "metadata": {},
   "source": [
    "## 正则解析\n",
    "需求爬取下列网页中图片数据  \n",
    "https://www.kengdie.com/category/dttb/  \n",
    "\n",
    "\n",
    "text:返回字符串类型数据  \n",
    "content:返回二进制类型数据  \n",
    "json:返回json对象型数据  \n"
   ]
  },
  {
   "cell_type": "code",
   "execution_count": 5,
   "metadata": {},
   "outputs": [
    {
     "name": "stdout",
     "output_type": "stream",
     "text": [
      "['http://media.ok-x.com/wp-content/uploads/2018/01/201801251358007.jpg', 'http://media.ok-x.com/wp-content/uploads/2018/01/201801251356012.jpg', 'http://media.ok-x.com/wp-content/uploads/2017/03/201703270924059.jpg', 'http://media.ok-x.com/wp-content/uploads/2017/03/201703270923160.jpg', 'http://media.ok-x.com/wp-content/uploads/2017/03/201703270922449.jpg', 'http://media.ok-x.com/wp-content/uploads/2017/03/201703270922072.jpg', 'http://media.ok-x.com/wp-content/uploads/2017/03/201703230557074.jpg', 'http://media.ok-x.com/wp-content/uploads/2017/03/201703230553576.gif', 'http://media.ok-x.com/wp-content/uploads/2017/03/201703230553001.jpg', 'http://media.ok-x.com/wp-content/uploads/2017/03/201703230551189.jpg', 'http://media.ok-x.com/wp-content/uploads/2017/02/201702111419210.jpg', 'http://media.ok-x.com/wp-content/uploads/2017/02/201702111418290.jpg']\n"
     ]
    }
   ],
   "source": [
    "import requests\n",
    "import re\n",
    "\n",
    "url = 'http://www.ok-x.com/category/picture'\n",
    "\n",
    "headers = {\n",
    "    'User-Agent':'Mozilla/5.0 (Windows NT 10.0; Win64; x64) AppleWebKit/537.36 (KHTML, like Gecko) Chrome/105.0.0.0 Safari/537.36'\n",
    "}\n",
    "\n",
    "# 使用通用爬虫对url对应的一整张页面进行爬取\n",
    "page_text = requests.get(url=url, headers=headers).text\n",
    "\n",
    "# 使用聚焦爬虫对页面中图片进行提取\n",
    "ex = '<div class=\"thumbnail\">.*?src=\"(.*?)\" class.*?</div>'\n",
    "\n",
    "img_src_list = re.findall(ex, page_text, re.S)\n",
    "# 展示获取到的图片的链接\n",
    "print(img_src_list)"
   ]
  },
  {
   "cell_type": "code",
   "execution_count": 7,
   "metadata": {},
   "outputs": [
    {
     "name": "stdout",
     "output_type": "stream",
     "text": [
      "201801251358007.jpg 下载成功！！\n",
      "201801251356012.jpg 下载成功！！\n",
      "201703270924059.jpg 下载成功！！\n",
      "201703270923160.jpg 下载成功！！\n",
      "201703270922449.jpg 下载成功！！\n",
      "201703270922072.jpg 下载成功！！\n",
      "201703230557074.jpg 下载成功！！\n",
      "201703230553576.gif 下载成功！！\n",
      "201703230553001.jpg 下载成功！！\n",
      "201703230551189.jpg 下载成功！！\n",
      "201702111419210.jpg 下载成功！！\n",
      "201702111418290.jpg 下载成功！！\n"
     ]
    }
   ],
   "source": [
    "# 用于保存图片\n",
    "import os\n",
    "\n",
    "if not os.path.exists('./3-2picLibs'):\n",
    "    os.mkdir('./3-2picLibs')\n",
    "\n",
    "for src in img_src_list:\n",
    "    # 这里获取到了图片的二进制数据\n",
    "    img_data = requests.get(url=src, headers=headers).content\n",
    "    # 生成图片名称\n",
    "    imgPath = './3-2picLibs/' + src.split('/')[-1]\n",
    "    with open(imgPath, 'wb') as fp:\n",
    "        fp.write(img_data)\n",
    "        print(src.split('/')[-1],\"下载成功！！\")"
   ]
  },
  {
   "cell_type": "code",
   "execution_count": null,
   "metadata": {},
   "outputs": [],
   "source": [
    "# 下面是分页的爬取对应的图片\n",
    "# 经过我查询这个网页存在bug，页面变化但是图片不变\n",
    "# 所以下面的代码只是对有分页操作的网页进行的操作参考\n",
    "\n",
    "\n",
    "import requests\n",
    "import re\n",
    "import os\n",
    "\n",
    "\n",
    "headers = {\n",
    "    'User-Agent':'Mozilla/5.0 (Windows NT 10.0; Win64; x64) AppleWebKit/537.36 (KHTML, like Gecko) Chrome/105.0.0.0 Safari/537.36'\n",
    "}\n",
    "\n",
    "# 创建存储路径\n",
    "if not os.path.exists('./3-2picLibs'):\n",
    "    os.mkdir('./3-2picLibs')\n",
    "\n",
    "# 设置一个通用的url模板\n",
    "url = 'http://www.ok-x.com/category/picture/page/%d'\n",
    "\n",
    "for pageNum in range(1,36):\n",
    "    new_url = format(url%pageNum)\n",
    "\n",
    "    # 使用通用爬虫对url对应的一整张页面进行爬取\n",
    "    page_text = requests.get(url=new_url, headers=headers).text\n",
    "\n",
    "    # 使用聚焦爬虫对页面中图片进行提取\n",
    "    ex = '<div class=\"thumbnail\">.*?src=\"(.*?)\" class.*?</div>'\n",
    "\n",
    "    img_src_list = re.findall(ex, page_text, re.S)\n",
    "\n",
    "    for src in img_src_list:\n",
    "        # 这里获取到了图片的二进制数据\n",
    "        img_data = requests.get(url=src, headers=headers).content\n",
    "        # 生成图片名称\n",
    "        imgPath = './3-2picLibs/' + src.split('/')[-1]\n",
    "        with open(imgPath, 'wb') as fp:\n",
    "            fp.write(img_data)\n",
    "            print(src.split('/')[-1],\"下载成功！！\")"
   ]
  }
 ],
 "metadata": {
  "kernelspec": {
   "display_name": "Python 3.10.0 ('venv': venv)",
   "language": "python",
   "name": "python3"
  },
  "language_info": {
   "codemirror_mode": {
    "name": "ipython",
    "version": 3
   },
   "file_extension": ".py",
   "mimetype": "text/x-python",
   "name": "python",
   "nbconvert_exporter": "python",
   "pygments_lexer": "ipython3",
   "version": "3.10.0"
  },
  "orig_nbformat": 4,
  "vscode": {
   "interpreter": {
    "hash": "22653fad1ec7eb65fd39a07313161974f5ef37b5e809feadcebc71d4fb2e1ad2"
   }
  }
 },
 "nbformat": 4,
 "nbformat_minor": 2
}
