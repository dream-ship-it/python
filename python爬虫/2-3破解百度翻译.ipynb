{
 "cells": [
  {
   "cell_type": "markdown",
   "metadata": {},
   "source": [
    "## 破解百度翻译\n",
    "\n",
    "- 对应的请求是post请求（并携带了参数）\n",
    "- 响应数据是一组json数据\n"
   ]
  },
  {
   "cell_type": "code",
   "execution_count": 3,
   "metadata": {},
   "outputs": [
    {
     "name": "stdout",
     "output_type": "stream",
     "text": [
      "{'errno': 0, 'data': [{'k': '问题', 'v': 'problem; question; issue ; matter; trouble'}, {'k': '问题单', 'v': '[医]questionaire'}, {'k': '问题的', 'v': 'problematic; problematical'}, {'k': '问题儿童', 'v': '[法] problem child'}, {'k': '问题分析', 'v': 'problem analysis'}]}\n",
      "over!!\n"
     ]
    }
   ],
   "source": [
    "import requests\n",
    "import json\n",
    "# 指定url\n",
    "post_url = 'https://fanyi.baidu.com/sug'\n",
    "\n",
    "# UA伪装 \n",
    "headers = {\n",
    "    'User-Agent':'Mozilla/5.0 (Windows NT 10.0; Win64; x64) AppleWebKit/537.36 (KHTML, like Gecko) Chrome/105.0.0.0 Safari/537.36'\n",
    "}\n",
    "\n",
    "# post请求参数处理\n",
    "\n",
    "word = input(\"enter a word:\")\n",
    "data = {\n",
    "    'kw':word,\n",
    "}\n",
    "\n",
    "# 请求发送\n",
    "resp = requests.post(url=post_url, data=data, headers=headers)\n",
    "\n",
    "# 获取响应数据:json()返回的是一个对象\n",
    "dic_obj = resp.json()\n",
    "\n",
    "print(dic_obj)\n",
    "\n",
    "# 持久化存储\n",
    "fp = open('./2-3baidu.json', 'w',encoding='utf-8')\n",
    "json.dump(dic_obj, fp=fp, ensure_ascii=False)\n",
    "\n",
    "print('over!!')\n"
   ]
  }
 ],
 "metadata": {
  "kernelspec": {
   "display_name": "Python 3.10.0 ('venv': venv)",
   "language": "python",
   "name": "python3"
  },
  "language_info": {
   "codemirror_mode": {
    "name": "ipython",
    "version": 3
   },
   "file_extension": ".py",
   "mimetype": "text/x-python",
   "name": "python",
   "nbconvert_exporter": "python",
   "pygments_lexer": "ipython3",
   "version": "3.10.0"
  },
  "orig_nbformat": 4,
  "vscode": {
   "interpreter": {
    "hash": "22653fad1ec7eb65fd39a07313161974f5ef37b5e809feadcebc71d4fb2e1ad2"
   }
  }
 },
 "nbformat": 4,
 "nbformat_minor": 2
}
