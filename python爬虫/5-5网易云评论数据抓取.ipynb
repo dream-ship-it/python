{
 "cells": [
  {
   "cell_type": "markdown",
   "metadata": {},
   "source": [
    "## <font color=red>较为复杂，可以先跳过</font>"
   ]
  },
  {
   "cell_type": "markdown",
   "metadata": {},
   "source": [
    "下面的是已经实现了相关功能的  \n",
    "可以直接通过改变data获取到不同歌曲的数据"
   ]
  },
  {
   "cell_type": "markdown",
   "metadata": {},
   "source": [
    "## 网易云评论数据抓取\n",
    "\n",
    "- 找到未加密的参数\n",
    "- 想办法把参数进行加密（必须参考网易的逻辑），params,encSecKsy\n",
    "- 请求到网易，拿到评论"
   ]
  },
  {
   "cell_type": "markdown",
   "metadata": {},
   "source": [
    "- 使用前端断点调试，找到对应的加密代码  \n",
    "![](img/2022-09-29-00-37-37.png)\n",
    "![](img/2022-09-29-00-34-00.png)"
   ]
  },
  {
   "cell_type": "markdown",
   "metadata": {},
   "source": [
    "发现是<font color=yellow>window.arsea(参数, xxxx,xxxx,xxxx)</font>进行的加密  \n",
    "我们需要的param => encText, encSecKey => encSecKey"
   ]
  },
  {
   "cell_type": "code",
   "execution_count": 32,
   "metadata": {},
   "outputs": [
    {
     "name": "stdout",
     "output_type": "stream",
     "text": [
      "爬取成功\n"
     ]
    }
   ],
   "source": [
    "import requests\n",
    "\n",
    "# 拿取评论的url\n",
    "url = \"https://music.163.com/weapi/comment/resource/comments/get?csrf_token=\"\n",
    "\n",
    "# 真实参数\n",
    "data = {\n",
    "    \"csrf_token\": \"\",\n",
    "    \"cursor\": \"-1\",\n",
    "    \"offset\": \"0\",\n",
    "    \"orderType\": \"1\",\n",
    "    \"pageNo\": \"1\",\n",
    "    \"pageSize\": \"20\",\n",
    "    \"rid\": \"R_SO_4_1330348068\",\n",
    "    \"threadId\": \"R_SO_4_1330348068\"\n",
    "}\n",
    "\n",
    "# 处理加密过程\n",
    "# window.arsea加密过程为如下,使用d函数进行加密\n",
    "# 搜索找到window.arsea对应的加密函数\n",
    "'''\n",
    "    function a(a) {\n",
    "        var d, e, b = \"abcdefghijklmnopqrstuvwxyzABCDEFGHIJKLMNOPQRSTUVWXYZ0123456789\", c = \"\";\n",
    "        for (d = 0; a > d; d += 1)\n",
    "            e = Math.random() * b.length,\n",
    "            e = Math.floor(e),\n",
    "            c += b.charAt(e);\n",
    "        return c\n",
    "    }\n",
    "    function b(a, b) {\n",
    "        var c = CryptoJS.enc.Utf8.parse(b)\n",
    "          , d = CryptoJS.enc.Utf8.parse(\"0102030405060708\")\n",
    "          , e = CryptoJS.enc.Utf8.parse(a)\n",
    "          , f = CryptoJS.AES.encrypt(e, c, {\n",
    "            iv: d,\n",
    "            mode: CryptoJS.mode.CBC\n",
    "        });\n",
    "        return f.toString()\n",
    "    }\n",
    "    function c(a, b, c) {\n",
    "        var d, e;\n",
    "        return setMaxDigits(131),\n",
    "        d = new RSAKeyPair(b,\"\",c),\n",
    "        e = encryptedString(d, a)\n",
    "    }\n",
    "    function d(d, e, f, g) {\n",
    "        var h = {}\n",
    "          , i = a(16);\n",
    "        return h.encText = b(d, g),\n",
    "        h.encText = b(h.encText, i),\n",
    "        h.encSecKey = c(i, e, f),\n",
    "        h\n",
    "    }\n",
    "    window.asrsea = d,\n",
    "'''\n",
    "\n",
    "'''\n",
    "    window.asrsea(JSON.stringify(i7b), buU5Z([\"流泪\", \"强\"]), buU5Z(Rg1x.md), buU5Z([\"爱心\", \"女孩\", \"惊恐\", \"大笑\"]));\n",
    "    对于其中一些，可以直接在控制台中运行获取到，比如：buU5Z([\"流泪\", \"强\"])\n",
    "    注意在控制中获取时要设计合适的断点\n",
    "    解析各个参数\n",
    "    d: 数据，\n",
    "    e: '010001',\n",
    "    f: '00e0b509f6259df8642dbc35662901477df22677ec152b5ff68ace615bb7\\\n",
    "        b725152b3ab17a876aea8a5aa76d2e417629ec4ee341f56135fccf695280\\\n",
    "        104e0312ecbda92557c93870114af6c9d05c4f7f0c3685b7a46bee2559325\\\n",
    "        75cce10b424d813cfe4875d3e82047b97ddef52741d546b8e289dc6935b3ece0462db0a22b8e7',\n",
    "    g: '0CoJUm6Qyw8W8jud'\n",
    "'''\n",
    "\n",
    "# 定义e,f,g\n",
    "e = '010001'\n",
    "f = '00e0b509f6259df8642dbc35662901477df22677ec152b5ff68ace615bb7\\\n",
    "b725152b3ab17a876aea8a5aa76d2e417629ec4ee341f56135fccf695280\\\n",
    "104e0312ecbda92557c93870114af6c9d05c4f7f0c3685b7a46bee2559325\\\n",
    "75cce10b424d813cfe4875d3e82047b97ddef52741d546b8e289dc6935b3ece0462db0a22b8e7'\n",
    "g = '0CoJUm6Qyw8W8jud'\n",
    "\n",
    "# 分析上诉代码不难得知，当i不变时，得到的encSecKey也是一个定值\n",
    "# 所以下面直接通过固定i值，得到对应的encSecKey，从而解决一个参数\n",
    "i = \"WUIAKrEtcMVOmiqE\"\n",
    "encSecKey = \"2b06b576cece434ae4bf65341bd3717d3043349099a854246e14492a4508947be3\\\n",
    "e153ba0ff0e061397d104371d34f23e6b0c7f36420acbf8f277ee6a531ae6ba7db3127d4419b92d\\\n",
    "88229f4d6a98de5bcd97a67d229201a9f0b4f168add0d48b17eafb225bacf17f2066128f9d78007e087af8202d538170b4f0634837aed42\"\n",
    "\n",
    "# 同理，经过对i的确定，encText中很多参数也固定了\n",
    "# 变化的是传入时的data\n",
    "# 用于得到对应的params\n",
    "from Crypto.Cipher import AES\n",
    "from base64 import b64encode\n",
    "\n",
    "\n",
    "def get_params(data):# 默认这里接受的是字符串\n",
    "    first = enc_params(data, g)\n",
    "    second = enc_params(first, i)\n",
    "    return second\n",
    "\n",
    "\n",
    "# 用于解决AES中16倍数加密逻辑的问题\n",
    "def to_16(data):\n",
    "    pad = 16 - len(data) % 16\n",
    "    data += chr(pad) * pad\n",
    "    return data\n",
    "\n",
    "\n",
    "def enc_params(data, key):\n",
    "    iv = \"0102030405060708\"\n",
    "    data = to_16(data)\n",
    "    # 创建加密器\n",
    "    aes = AES.new(key=key.encode(\"utf-8\"), IV=iv.encode(\"utf-8\"),mode=AES.MODE_CBC)\n",
    "    # 加密，加密的内容必须是16的倍数\n",
    "    bs = aes.encrypt(data.encode('utf-8'))\n",
    "    return str(b64encode(bs), 'utf-8')\n",
    "\n",
    "# 将字典变为字符串\n",
    "import json\n",
    "\n",
    "\n",
    "resp = requests.post(url=url, data={\n",
    "    \"params\": get_params(json.dumps(data)),\n",
    "    \"encSecKey\": encSecKey\n",
    "})\n",
    "\n",
    "comments = resp.json()['data']['comments']\n",
    "\n",
    "# print(resp.json())\n",
    "\n",
    "with open('./5-5网易云评论数据.txt', 'w', encoding='utf-8') as fp:\n",
    "    for item in comments:\n",
    "        fp.write(item['user']['nickname']+':'+item['content'] + '\\n')\n",
    "    print(\"爬取成功\")\n",
    "\n"
   ]
  }
 ],
 "metadata": {
  "kernelspec": {
   "display_name": "Python 3.10.0 ('venv': venv)",
   "language": "python",
   "name": "python3"
  },
  "language_info": {
   "codemirror_mode": {
    "name": "ipython",
    "version": 3
   },
   "file_extension": ".py",
   "mimetype": "text/x-python",
   "name": "python",
   "nbconvert_exporter": "python",
   "pygments_lexer": "ipython3",
   "version": "3.10.0"
  },
  "orig_nbformat": 4,
  "vscode": {
   "interpreter": {
    "hash": "22653fad1ec7eb65fd39a07313161974f5ef37b5e809feadcebc71d4fb2e1ad2"
   }
  }
 },
 "nbformat": 4,
 "nbformat_minor": 2
}
