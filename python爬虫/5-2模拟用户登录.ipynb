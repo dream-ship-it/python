{
 "cells": [
  {
   "cell_type": "markdown",
   "metadata": {},
   "source": [
    "## 模拟登录小说网\n",
    "处理cookie登录小说网  \n",
    "\n",
    "- 登录 -> 得到cookie\n",
    "- 带着cookie 去请求到书架url -> 书架上的内容\n",
    "- 必须将上面两个操作连在一起\n",
    "- 我们可以使用session进行请求 -> 在这个过程中的cookie不会丢失\n"
   ]
  },
  {
   "cell_type": "markdown",
   "metadata": {},
   "source": [
    "- http/https协议特性：无状态  \n",
    "- cookie：用来让服务器记录客户端的相关状态  \n",
    "    - 手动\n",
    "    - 自动：session会话对象（1.可以进行请求的发送；2.请求过程中产生了cookie将会被携带）"
   ]
  },
  {
   "cell_type": "code",
   "execution_count": 4,
   "metadata": {},
   "outputs": [
    {
     "name": "stdout",
     "output_type": "stream",
     "text": [
      "{'status': {'code': 0, 'msg': 'succ'}, 'data': [{'bookId': 3480472, 'bookName': '灵气复苏：我能打印诸天万物！', 'coverImg': 'https://cdn.static.17k.com/book/189x272/72/04/3480472.jpg-189x272?v=1663224043000', 'authorId': 79370813, 'authorPenName': '战逗大师', 'introduction': '\\n地球突然迎来灵气复苏，万物获得了灵力，妖魔鬼怪纷纷出世。\\n张晨发现，自己家的3D打印机成精了，可以打印出各种传说中的东西。\\n模型剑+修仙模块+属性矿石=无敌仙剑！\\n模型锤+漫威模块+雷电核心=雷神之锤！\\n模型桥+灵异模块+鬼桃木=地狱奈何桥！\\n一扇门+天道模块+星尘核心=命运之门！\\n……\\n灵气复苏等于世界末日？\\n不，我的打印机能拯救世界！', 'bookClass': {'id': 2, 'name': '男生'}, 'bookChannel': {'id': 14, 'name': '科幻末世'}, 'bookCategory': {'id': 6, 'name': '未来幻想'}, 'authLevel': {'id': 4, 'name': 'VIP作品'}, 'progress': 0, 'lastUpdateChapter': {'id': 47101491, 'name': '第88章 剑罡加成血爪', 'createTime': 1664250648000, 'updateTime': 1664250781000, 'isVIP': {'id': 1, 'name': '是'}, 'publishTime': 1664250648000}, 'status': {'id': 4, 'name': '正常'}, 'bookStatus': {'id': 1, 'name': '连载'}, 'isVIP': {'id': 1, 'name': '是'}, 'bookmarkChapterId': 0, 'bookmarkChapterName': '', 'bookmarkChapterVipFlag': 0, 'topFlag': 0, 'createTimeValue': 1664290790000, 'updateTimeValue': 1664290790000, 'topTimeValue': 0, 'bookupdateTimeValue': 1664250781000, 'recCode': 'null1664291427155137', 'type': 5}, {'bookId': 3478917, 'bookName': '玄幻：这个宗主有良心，但是不多', 'coverImg': 'https://cdn.static.17k.com/book/189x272/17/89/3478917.jpg-189x272?v=1663926306000', 'authorId': 77409107, 'authorPenName': '一笔焚天', 'introduction': '【双主线+第四天灾+幽默+种田+幕后流+沙雕玩家】\\n杨凡，穿越都市二十年，身为富二代，生活滋润美女成群。\\n然而，三年前，杨凡被诊断脑癌，将死之际，激活宗门系统，再次魂穿修仙异界，成为混沌宗宗主！\\n系统：获得玩家召唤权限！\\n系统竟召唤蓝水星小伙伴集体魂穿，重塑躯体，\\n成为宗门弟子！\\n于是宗门画风突变！\\n鸡你太美：劳资联练习两年半还打不过一个小怪？\\n河图：艹，劳资杀个鸡被嘎腰子？\\n执不旧：嘛玩意，大师兄是条狗？\\n……\\n诸方修士：卧槽，什么玩意，劳资一个渡劫期，打不过一个化神期，无限复活是什么鬼？\\n超级宗门：额……混沌宗？滚蛋宗还差不多，踏马宗门弟子跟强盗一样，把我们洗劫一空，让不让人活了？\\n……\\n杨凡：这玩有问题吗？没有问题！\\n……\\n都市、修仙双世界闯荡，强势打脸？幕后主使？杨凡等你来战！\\n【本小说及人物纯属虛构，如有雷同，纯属巧合，\\n切勿模仿。】\\n', 'bookClass': {'id': 2, 'name': '男生'}, 'bookChannel': {'id': 21, 'name': '玄幻奇幻'}, 'bookCategory': {'id': 8, 'name': '东方玄幻'}, 'authLevel': {'id': 4, 'name': 'VIP作品'}, 'progress': 0, 'lastUpdateChapter': {'id': 47103156, 'name': '第二十一章：火遁之术/武盾之术！', 'createTime': 1664280569000, 'updateTime': 1664282690000, 'isVIP': {'id': 0, 'name': '否'}, 'publishTime': 1664280569000}, 'status': {'id': 4, 'name': '正常'}, 'bookStatus': {'id': 1, 'name': '连载'}, 'isVIP': {'id': 0, 'name': '否'}, 'bookmarkChapterId': 0, 'bookmarkChapterName': '', 'bookmarkChapterVipFlag': 0, 'topFlag': 0, 'createTimeValue': 1664290768000, 'updateTimeValue': 1664290768000, 'topTimeValue': 0, 'bookupdateTimeValue': 1664282690000, 'recCode': 'null1664291427155137', 'type': 5}, {'bookId': 3377676, 'bookName': '我的透视超给力', 'coverImg': 'https://cdn.static.17k.com/book/189x272/76/76/3377676.jpg-189x272?v=1661851591000', 'authorId': 85215151, 'authorPenName': '番茄炖肉', 'introduction': '我是老中医，专治各种吹牛逼！\\n我武道超神，吊打一切不服气！\\n秦飞偶得神秘传承，拥有神眼，从此医术通天，武道超神，且看他逆天崛起，笑傲人生。', 'bookClass': {'id': 2, 'name': '男生'}, 'bookChannel': {'id': 3, 'name': '都市小说'}, 'bookCategory': {'id': 87, 'name': '都市异能'}, 'authLevel': {'id': 4, 'name': 'VIP作品'}, 'progress': 0, 'lastUpdateChapter': {'id': 47100490, 'name': '第五百八十八章  好有道理', 'createTime': 1664209945000, 'updateTime': 1664242423000, 'isVIP': {'id': 1, 'name': '是'}, 'publishTime': 1664233500000}, 'status': {'id': 4, 'name': '正常'}, 'bookStatus': {'id': 1, 'name': '连载'}, 'isVIP': {'id': 1, 'name': '是'}, 'bookmarkChapterId': 0, 'bookmarkChapterName': '', 'bookmarkChapterVipFlag': 0, 'topFlag': 0, 'createTimeValue': 1664268512000, 'updateTimeValue': 1664268518000, 'topTimeValue': 0, 'bookupdateTimeValue': 1664263229000, 'recCode': 'null1664291427155137', 'type': 5}, {'bookId': 3403515, 'bookName': '天道关系户', 'coverImg': 'https://cdn.static.17k.com/book/189x272/15/35/3403515.jpg-189x272?v=1644304663000', 'authorId': 46313415, 'authorPenName': '单纯宅男', 'introduction': '黑暗深渊异魔暴动，异魔王横空降世，天澜城危。\\n“叮。经系统检测，天澜城城主发布雇佣任务，剿灭异魔，是否接受？”\\n“接受。”苏格望着那遮天蔽日的异魔，眼神炽热。\\n“叮。本着客户至上、任务第一的原则，宿主修为将临时提升到帝境，以便完成任务。”\\n“任务完成，将有十分之一临时修为转化为永久修为，可与宿主原修为叠加。”\\n于是，人们震惊地看到——\\n天澜城外，一剑光寒平地起，亿万异魔成飞灰。\\n', 'bookClass': {'id': 2, 'name': '男生'}, 'bookChannel': {'id': 21, 'name': '玄幻奇幻'}, 'bookCategory': {'id': 8, 'name': '东方玄幻'}, 'authLevel': {'id': 4, 'name': 'VIP作品'}, 'progress': 0, 'lastUpdateChapter': {'id': 47103925, 'name': '第476章 突如其来的任务', 'createTime': 1664288041000, 'updateTime': 1664288514000, 'isVIP': {'id': 1, 'name': '是'}, 'publishTime': 1664288041000}, 'status': {'id': 4, 'name': '正常'}, 'bookStatus': {'id': 1, 'name': '连载'}, 'isVIP': {'id': 1, 'name': '是'}, 'bookmarkChapterId': 0, 'bookmarkChapterName': '', 'bookmarkChapterVipFlag': 0, 'topFlag': 0, 'createTimeValue': 1664268512000, 'updateTimeValue': 1664268517000, 'topTimeValue': 0, 'bookupdateTimeValue': 1664288514000, 'recCode': 'null1664291427155137', 'type': 5}, {'bookId': 3430856, 'bookName': '分手后我成了前任的娇软白月光', 'coverImg': 'https://cdn.static.17k.com/book/189x272/56/08/3430856.jpg-189x272?v=1650790915000', 'authorId': 96144514, 'authorPenName': '欧阳元泉', 'introduction': '13年痴情错付，云雪尧一朝醒悟，痛快分手退婚，“渣男如狗，且抛且走！”\\n重拾事业，她在职场中飒爽杀伐，惊艳众人。\\n曾经弃她如敝履的男人，却疯了似的缠她上瘾，“尧尧，嫁给我好不好？”\\n云雪尧潋滟轻笑：“霄爷如今，怎么活成了自己最讨厌的样子？”\\n——\\n用了整整七年去恨她，等到她决然转身，江凌霄才发现：所有的恨意都抵不过失去她的恐惧。\\n“尧尧，我只求复合，不会逼你结婚。”\\n“尧尧，我只求结婚，不会逼你生宝宝。”\\n“尧尧，我们只生一个，不会让你多生……”\\n云雪尧揣着第三胎，忍无可忍，“江凌霄，你这个卑鄙小人！”\\n江凌霄：“尧尧，小人在你肚子里，我是你亲爱的。”', 'bookClass': {'id': 3, 'name': '女生'}, 'bookChannel': {'id': 17, 'name': '现代言情'}, 'bookCategory': {'id': 134, 'name': '总裁豪门'}, 'authLevel': {'id': 4, 'name': 'VIP作品'}, 'progress': 0, 'lastUpdateChapter': {'id': 47100374, 'name': '第241章 突如其来过来的女人', 'createTime': 1664207871000, 'updateTime': 1664208061000, 'isVIP': {'id': 1, 'name': '是'}, 'publishTime': 1664207871000}, 'status': {'id': 4, 'name': '正常'}, 'bookStatus': {'id': 1, 'name': '连载'}, 'isVIP': {'id': 1, 'name': '是'}, 'bookmarkChapterId': 0, 'bookmarkChapterName': '', 'bookmarkChapterVipFlag': 0, 'topFlag': 0, 'createTimeValue': 1664268512000, 'updateTimeValue': 1664268516000, 'topTimeValue': 0, 'bookupdateTimeValue': 1664208061000, 'recCode': 'null1664291427155137', 'type': 5}, {'bookId': 3411557, 'bookName': '农门长姐：我娇养了五个大佬弟弟', 'coverImg': 'https://cdn.static.17k.com/book/189x272/57/15/3411557.jpg-189x272?v=1646704817000', 'authorId': 60959010, 'authorPenName': '香奈儿不香', 'introduction': '亲自带着百亿物资前往灾区赈灾的女霸总唐琪穿越开局就死娘，老爹征丁失踪，爷奶叔婶齐上阵要卖掉襁褓里的弟弟换粮食。\\n\\u3000\\u3000唐琪扬起扫帚，怒打极品血亲，化解危难后，看着三个小萝卜头弟弟，还有一个襁褓中的奶娃娃，她撸起袖子表示不要慌，有姐在就饿不死！\\n\\u3000\\u3000天无绝人之路，她的百亿物资竟然化作空间跟随她而来，唐琪凭着机智的头脑和天赋灵活使用百亿物资闷声发大财，斗渣渣、虐极品、送弟弟习文练武学医术，将他们养育成才。\\n\\u3000\\u3000后来--\\n\\u3000\\u3000少年将军：谁敢欺负我长姐，提头来见。\\n\\u3000\\u3000权臣首辅：谁敢辱骂我长姐，牢狱相会。\\n\\u3000\\u3000北周首富：谁敢骗财我长姐，赔个底掉。\\n\\u3000\\u3000鬼医传人：谁敢伤害我长姐，生不如死。\\n\\u3000\\u3000江湖少谷主：额我也来……谁敢欺负我义姐，虽远必毒。\\n\\u3000\\u3000京城众人皆惊：这唐家长女竟这般厉害，可婚配否？\\n\\u3000\\u3000镇国公爷：不瞒各位，娇妻已孕满三月，来年登门喝满月酒啊！', 'bookClass': {'id': 3, 'name': '女生'}, 'bookChannel': {'id': 5, 'name': '古代言情'}, 'bookCategory': {'id': 140, 'name': '女尊女强'}, 'authLevel': {'id': 4, 'name': 'VIP作品'}, 'progress': 0, 'lastUpdateChapter': {'id': 47102518, 'name': '第652章 离小目标更近一步', 'createTime': 1664271339000, 'updateTime': 1664272981000, 'isVIP': {'id': 1, 'name': '是'}, 'publishTime': 1664271339000}, 'status': {'id': 4, 'name': '正常'}, 'bookStatus': {'id': 1, 'name': '连载'}, 'isVIP': {'id': 1, 'name': '是'}, 'bookmarkChapterId': 0, 'bookmarkChapterName': '', 'bookmarkChapterVipFlag': 0, 'topFlag': 0, 'createTimeValue': 1664268512000, 'updateTimeValue': 1664268515000, 'topTimeValue': 0, 'bookupdateTimeValue': 1664272981000, 'recCode': 'null1664291427155137', 'type': 5}, {'bookId': 3421307, 'bookName': '不灭造化决', 'coverImg': 'https://cdn.static.17k.com/book/189x272/07/13/3421307.jpg-189x272?v=1655708908000', 'authorId': 41547791, 'authorPenName': '言轻语', 'introduction': '异世大陆，强者为尊。\\n少年陆泽惨遭背叛，却意外获得无上神功，从此龙游苍穹，鹰翱九霄。\\n杀圣子，灭天骄，夺造化，逆天改命，强势崛起！\\n一步一登天！\\n一路披荆斩棘，一剑破万法！\\n高歌猛进，无所不克，一直走到巅峰。', 'bookClass': {'id': 2, 'name': '男生'}, 'bookChannel': {'id': 21, 'name': '玄幻奇幻'}, 'bookCategory': {'id': 8, 'name': '东方玄幻'}, 'authLevel': {'id': 4, 'name': 'VIP作品'}, 'progress': 0, 'lastUpdateChapter': {'id': 47100517, 'name': '第327章仙宫设局功一溃，陆泽巧计逃升天', 'createTime': 1664210883000, 'updateTime': 1664241714000, 'isVIP': {'id': 1, 'name': '是'}, 'publishTime': 1664210883000}, 'status': {'id': 4, 'name': '正常'}, 'bookStatus': {'id': 1, 'name': '连载'}, 'isVIP': {'id': 1, 'name': '是'}, 'bookmarkChapterId': 0, 'bookmarkChapterName': '', 'bookmarkChapterVipFlag': 0, 'topFlag': 0, 'createTimeValue': 1664268512000, 'updateTimeValue': 1664268514000, 'topTimeValue': 0, 'bookupdateTimeValue': 1664283761000, 'recCode': 'null1664291427155137', 'type': 5}, {'bookId': 3417179, 'bookName': '穿书七零：作精女配靠玄学躺赢', 'coverImg': 'https://cdn.static.17k.com/book/189x272/79/71/3417179.jpg-189x272?v=1647830639000', 'authorId': 80155009, 'authorPenName': '一束清风', 'introduction': '玄学大佬宋柠，穿成年代文的同名作精假千金，刚穿越就惨遭公婆设计离婚。\\n真千金和其养父母也趁机来找事，宋柠只好撸起袖子爬起来干架…\\n本来以为老公是个糙汉军官，谁知乔博却英俊又贴心…\\n宋柠：啧…老公真香！\\n干回老本行的宋柠，运气出奇的好，干什么都顺利的不得了，随手做的事业也越做越大…\\n宋柠：就离谱了…\\n乔博：啧…软饭真香！', 'bookClass': {'id': 3, 'name': '女生'}, 'bookChannel': {'id': 17, 'name': '现代言情'}, 'bookCategory': {'id': 136, 'name': '年代种田'}, 'authLevel': {'id': 4, 'name': 'VIP作品'}, 'progress': 0, 'lastUpdateChapter': {'id': 47101774, 'name': '第435章不可探测的真相', 'createTime': 1664258148000, 'updateTime': 1664258651000, 'isVIP': {'id': 1, 'name': '是'}, 'publishTime': 1664258149000}, 'status': {'id': 4, 'name': '正常'}, 'bookStatus': {'id': 1, 'name': '连载'}, 'isVIP': {'id': 1, 'name': '是'}, 'bookmarkChapterId': 0, 'bookmarkChapterName': '', 'bookmarkChapterVipFlag': 0, 'topFlag': 0, 'createTimeValue': 1664268512000, 'updateTimeValue': 1664268513000, 'topTimeValue': 0, 'bookupdateTimeValue': 1664258651000, 'recCode': 'null1664291427155137', 'type': 5}], 'num': 20, 'curPage': 1, 'totalNum': 8, 'totalPage': 1, 'hasMore': 0, 'time': 1664291427000}\n"
     ]
    }
   ],
   "source": [
    "import json\n",
    "import requests\n",
    "\n",
    "session = requests.session()\n",
    "\n",
    "url = \"https://h5.17k.com/ck/user/login\"\n",
    "\n",
    "data = {\n",
    "    \"loginName\": \"18986683739\",\n",
    "    \"password\": \"311373yym\",\n",
    "    \"appKey\": \"1351550300\"\n",
    "}\n",
    "\n",
    "resp = session.post(url=url,data=data)\n",
    "\n",
    "data_book = {\n",
    "    \"platform\": 4,\n",
    "    \"appKey\": 1351550300\n",
    "}\n",
    "\n",
    "resp_book = session.get(\"https://user.17k.com/ck/author/shelf\",data=data_book)\n",
    "\n",
    "print(resp_book.json())\n"
   ]
  }
 ],
 "metadata": {
  "kernelspec": {
   "display_name": "Python 3.10.0 ('venv': venv)",
   "language": "python",
   "name": "python3"
  },
  "language_info": {
   "codemirror_mode": {
    "name": "ipython",
    "version": 3
   },
   "file_extension": ".py",
   "mimetype": "text/x-python",
   "name": "python",
   "nbconvert_exporter": "python",
   "pygments_lexer": "ipython3",
   "version": "3.10.0"
  },
  "orig_nbformat": 4,
  "vscode": {
   "interpreter": {
    "hash": "22653fad1ec7eb65fd39a07313161974f5ef37b5e809feadcebc71d4fb2e1ad2"
   }
  }
 },
 "nbformat": 4,
 "nbformat_minor": 2
}
