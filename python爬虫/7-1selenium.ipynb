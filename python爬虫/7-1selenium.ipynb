{
 "cells": [
  {
   "attachments": {},
   "cell_type": "markdown",
   "metadata": {},
   "source": [
    "## selenium\n",
    "让程序链接到浏览器，让浏览器完成复杂的操作，我们只接受最终的结果\n",
    "- 环境搭建  \n",
    "  pip install selenium  \n",
    "  个人用的是google chrome\n",
    "  提供google浏览器下载地址： https://registry.npmmirror.com/binary.html?path=chromedriver  \n",
    "    将解压缩的浏览器驱动放在python解释器所在的文件夹  "
   ]
  },
  {
   "attachments": {},
   "cell_type": "markdown",
   "metadata": {},
   "source": [
    "详情可以参考: https://zhuanlan.zhihu.com/p/343948620 等的文章\n",
    "这里是我个人的一些操作偏好,仅供参考"
   ]
  },
  {
   "cell_type": "code",
   "execution_count": null,
   "metadata": {},
   "outputs": [],
   "source": [
    "# 下面测试是否使用\n",
    "from selenium import webdriver\n",
    "# 给出浏览器驱动的地址\n",
    "driver = webdriver.Chrome(executable_path=r\"\")\n",
    "# 打开网页\n",
    "driver.get(\"http://www.baidu.com\")"
   ]
  },
  {
   "attachments": {},
   "cell_type": "markdown",
   "metadata": {},
   "source": [
    "### 查找元素\n",
    "我个人使用xpath较多\n",
    "find_element_by_xpath     #通过Xpath语法来指定的一个元素\n",
    "借用浏览器插件可以很轻松的得到对应的xpath"
   ]
  }
 ],
 "metadata": {
  "kernelspec": {
   "display_name": "web_clawler",
   "language": "python",
   "name": "python3"
  },
  "language_info": {
   "name": "python",
   "version": "3.9.15 (main, Nov 24 2022, 14:39:17) [MSC v.1916 64 bit (AMD64)]"
  },
  "orig_nbformat": 4,
  "vscode": {
   "interpreter": {
    "hash": "23088bb353b83d35bb98cd05a119f14cfb220e5fb9d2c2279da2c6307abe8add"
   }
  }
 },
 "nbformat": 4,
 "nbformat_minor": 2
}
