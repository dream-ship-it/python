{
 "cells": [
  {
   "cell_type": "markdown",
   "metadata": {},
   "source": [
    "## bs4解析\n",
    "只能用于python当中\n",
    "\n",
    "- 数据解析原理\n",
    "  - 标签定位\n",
    "  - 提取标签、标签属性中存储的数据值\n",
    "- bs4数据解析的原理\n",
    "  - 实例化一个BeautifulSoup对象，并将页面源码数据加载到该对象中\n",
    "  - 通过调用BeautifulSoup对象中相关的属性或者方法进行标签定位和数据提取\n",
    "  - 环境安装：bs4,lxml\n",
    "  - 实例化BeautifulSoup对象  \n",
    "      from bs4 import BeautifulSoup  \n",
    "      1. 将本地的html文档中的数据加入到该对象中\n",
    "      2. 将互联网html文档中的数据加入到该对象中\n",
    "  - 提供数据解析的方法和属性\n",
    "      1. soup.tagName:返回的是文档中第一次出现的tagName对应的标签\n",
    "      2. soup.find(): soup.find('div)等同于soup.div，同时也可以根据属性定位\n",
    "      3. soup.find_all():返回符合条件的所有标签\n",
    "      4. soup.select('某种选择器(id, class, 标签...选择器)')，返回的是一个列表  \n",
    "            \\>表示一个层级，空格表示多个层级\n",
    "      5. 获取标签中的文本 soup.a.text/string/get_text()\n",
    "            text/get_text()获取某一个标签中所有的文本内容\n",
    "            string只可以获取该标签下的直系文本内容\n",
    "      6. 获取标签中的属性值  \n",
    "            soup.a['href']    \n"
   ]
  },
  {
   "cell_type": "code",
   "execution_count": null,
   "metadata": {},
   "outputs": [],
   "source": [
    "from bs4 import BeautifulSoup\n",
    "import requests\n",
    "\n",
    "url = 'https://www.sogou.com/'\n",
    "page_text = requests.get(url=url).text\n",
    "\n",
    "soup = BeautifulSoup(page_text, 'lxml')\n",
    "\n",
    "# 返回的是第一次出现的tagName标签\n",
    "print(soup.a)\n",
    "\n",
    "# find()\n",
    "# 1.返回的也是第一次出现的div\n",
    "print(soup.find('div'))\n",
    "# 2.根据属性找到对应的\n",
    "print(soup.find('div', class_=\"ddd\"))\n",
    "\n",
    "# 返回符合要求的所有标签\n",
    "print(soup.find_all('a'))\n",
    "\n",
    "# 选择器，返回的是一个列表\n",
    "# 层级选择器\n",
    "print(soup.select('.tang > ul > li > a')[0])\n"
   ]
  }
 ],
 "metadata": {
  "kernelspec": {
   "display_name": "Python 3.10.0 ('venv': venv)",
   "language": "python",
   "name": "python3"
  },
  "language_info": {
   "codemirror_mode": {
    "name": "ipython",
    "version": 3
   },
   "file_extension": ".py",
   "mimetype": "text/x-python",
   "name": "python",
   "nbconvert_exporter": "python",
   "pygments_lexer": "ipython3",
   "version": "3.10.0"
  },
  "orig_nbformat": 4,
  "vscode": {
   "interpreter": {
    "hash": "22653fad1ec7eb65fd39a07313161974f5ef37b5e809feadcebc71d4fb2e1ad2"
   }
  }
 },
 "nbformat": 4,
 "nbformat_minor": 2
}
