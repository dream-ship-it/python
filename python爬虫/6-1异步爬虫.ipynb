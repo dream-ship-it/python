{
 "cells": [
  {
   "cell_type": "markdown",
   "metadata": {},
   "source": [
    "## 高性能异步爬虫\n",
    "目的：在爬虫中使用异步实现高性能的数据爬取操作\n"
   ]
  },
  {
   "cell_type": "markdown",
   "metadata": {},
   "source": [
    "### 同步爬虫"
   ]
  },
  {
   "cell_type": "code",
   "execution_count": 2,
   "metadata": {},
   "outputs": [
    {
     "name": "stdout",
     "output_type": "stream",
     "text": [
      "正在爬取： https://img0.baidu.com/it/u=925843206,3288141497&fm=253&fmt=auto&app=138&f=JPEG?w=500&h=769\n",
      "响应数据长度为： 58640\n",
      "正在爬取： https://img0.baidu.com/it/u=922902802,2128943538&fm=253&fmt=auto&app=120&f=JPEG?w=1422&h=800\n",
      "响应数据长度为： 75683\n",
      "正在爬取： https://img1.baidu.com/it/u=3009731526,373851691&fm=253&fmt=auto&app=138&f=JPEG?w=800&h=500\n",
      "响应数据长度为： 36994\n"
     ]
    }
   ],
   "source": [
    "import requests\n",
    "headers = {\n",
    "    'User-Agent':'Mozilla/5.0 (Windows NT 10.0; Win64; x64) AppleWebKit/537.36 (KHTML, like Gecko) Chrome/105.0.0.0 Safari/537.36'\n",
    "}\n",
    "\n",
    "# 这里的url，随便给几个就行，最好是数据长度较大的\n",
    "# 效果明显，我这里是随便给的\n",
    "url = {\n",
    "    'https://img0.baidu.com/it/u=922902802,2128943538&fm=253&fmt=auto&app=120&f=JPEG?w=1422&h=800',\n",
    "    'https://img0.baidu.com/it/u=925843206,3288141497&fm=253&fmt=auto&app=138&f=JPEG?w=500&h=769',\n",
    "    'https://img1.baidu.com/it/u=3009731526,373851691&fm=253&fmt=auto&app=138&f=JPEG?w=800&h=500'\n",
    "}\n",
    "\n",
    "def get_content(url):\n",
    "    print(\"正在爬取：\",url)\n",
    "    # get方法是一个阻塞的操作\n",
    "    resp = requests.get(url=url, headers=headers)\n",
    "    if resp.status_code == 200:\n",
    "        return resp.content\n",
    "\n",
    "def parse_content(content):\n",
    "    print(\"响应数据长度为：\",len(content))\n",
    "\n",
    "for url in url:\n",
    "    content = get_content(url)\n",
    "    parse_content(content)"
   ]
  },
  {
   "cell_type": "markdown",
   "metadata": {},
   "source": [
    "### 异步爬虫\n",
    "\n",
    "#### 方式\n",
    "- 多线程，多进程（不建议）  \n",
    "  好处：可以为相关的操作的难度开启线程或者进程，阻塞操作就可以异步执行  \n",
    "  弊端：无法无限制的开启多线程或者多进程\n",
    "- 线程池、进程池（适当的）  \n",
    "  好处：可以降低系统对进程或者线程创建和销毁的一个频率，从而很好的降低系统的开销  \n",
    "  弊端：池中线程或进程的数量是有上限的\n",
    "- 单线程+异步协程（推荐）  \n",
    "  - event_loop：事件循环，相当于一个无限循环，我们可以把一些函数注册到这个事件循环上，当满足某些条件的时候，函数就会被循环执行。  \n",
    "  - task：任务，它是对协程对象的进一步封装，包含了任务的各个状态。  \n",
    "  - future：代表将来执行或还没有执行的任务，实际上和 task 没有本质区别。\n",
    "  - async 定义一个协程\n",
    "  - await 用来挂起阻塞方法的执行"
   ]
  },
  {
   "cell_type": "code",
   "execution_count": 3,
   "metadata": {},
   "outputs": [
    {
     "name": "stdout",
     "output_type": "stream",
     "text": [
      "['https://www.pearvideo.com/video_1578274', 'https://www.pearvideo.com/video_1725093', 'https://www.pearvideo.com/video_1584102']\n",
      "['她19岁被拐离家，因一封信再见家人', '湖北一小学校园内有座烈士墓，师生数十年默默守护祭扫', '老师借2万创业,他大三买车大四买房']\n"
     ]
    }
   ],
   "source": [
    "# 爬取梨视频的例子\n",
    "import requests\n",
    "from lxml import etree\n",
    "from multiprocessing.dummy import Pool\n",
    "headers = {\n",
    "    'User-Agent':'Mozilla/5.0 (Windows NT 10.0; Win64; x64) AppleWebKit/537.36 (KHTML, like Gecko) Chrome/105.0.0.0 Safari/537.36'\n",
    "}\n",
    "\n",
    "url = \"https://www.pearvideo.com/category_1\"\n",
    "\n",
    "\n",
    "page_text = requests.get(url=url, headers=headers).text\n",
    "\n",
    "tree = etree.HTML(page_text)\n",
    "\n",
    "a_list = tree.xpath('//div[@id=\"listvideoList\"]/ul[@id=\"listvideoListUl\"]/li[@class=\"categoryem \"]/div[@class=\"vervideo-bd\"]/a/@href')\n",
    "a_list = list(map(lambda x: \"https://www.pearvideo.com/\" + x, a_list))\n",
    "\n",
    "name_list = tree.xpath('//div[@id=\"listvideoList\"]/ul[@id=\"listvideoListUl\"]/li[@class=\"categoryem \"]/div[@class=\"vervideo-bd\"]/a/div[2]/text()')\n",
    "\n",
    "print(a_list)\n",
    "print(name_list)"
   ]
  },
  {
   "cell_type": "code",
   "execution_count": 4,
   "metadata": {},
   "outputs": [
    {
     "name": "stdout",
     "output_type": "stream",
     "text": [
      "{'name': '6-1她19岁被拐离家，因一封信再见家人.mp4', 'url': 'https://video.pearvideo.com/mp4/adshort/20190716/cont-1578274-11346226-182135_adpkg-ad_hd.mp4'}\n",
      "{'name': '6-1湖北一小学校园内有座烈士墓，师生数十年默默守护祭扫.mp4', 'url': 'https://video.pearvideo.com/mp4/adshort/20210331/cont-1725093-15644312_adpkg-ad_hd.mp4'}\n",
      "{'name': '6-1老师借2万创业,他大三买车大四买房.mp4', 'url': 'https://video.pearvideo.com/mp4/adshort/20190731/cont-1584102-13081995-113957_adpkg-ad_hd.mp4'}\n"
     ]
    }
   ],
   "source": [
    "urls_end = []\n",
    "for url_i in range(len(a_list)):\n",
    "    # 拿到contID\n",
    "    headers_mp4 = {\n",
    "        'User-Agent':'Mozilla/5.0 (Windows NT 10.0; Win64; x64) AppleWebKit/537.36 (KHTML, like Gecko) Chrome/105.0.0.0 Safari/537.36',\n",
    "        # 防盗链：溯源，查看跳转前的网页\n",
    "        'Referer': a_list[url_i]\n",
    "    }\n",
    "    contID = a_list[url_i].split(\"_\")[1]\n",
    "    videoStatusUrl = f\"https://www.pearvideo.com/videoStatus.jsp?contId={contID}&mrd=0.46063027559272984\"\n",
    "    dic_mp4 = requests.get(url=videoStatusUrl, headers=headers_mp4).json()\n",
    "    srcUrl = dic_mp4['videoInfo']['videos']['srcUrl']\n",
    "    # 获取到的最后的视频的url\n",
    "    systemTime = dic_mp4['systemTime']\n",
    "    srcUrl = srcUrl.replace(systemTime, f\"cont-{contID}\")\n",
    "    dic_res = {\n",
    "        'name': '6-1' + name_list[url_i] + '.mp4',\n",
    "        'url': srcUrl\n",
    "    }\n",
    "    print(dic_res)\n",
    "    urls_end.append(dic_res)\n"
   ]
  },
  {
   "cell_type": "markdown",
   "metadata": {},
   "source": [
    "##### 线程池"
   ]
  },
  {
   "cell_type": "code",
   "execution_count": 5,
   "metadata": {},
   "outputs": [
    {
     "name": "stdout",
     "output_type": "stream",
     "text": [
      "6-1她19岁被拐离家，因一封信再见家人.mp4 开始下载！！\n",
      "6-1她19岁被拐离家，因一封信再见家人.mp4 下载成功！\n",
      "6-1湖北一小学校园内有座烈士墓，师生数十年默默守护祭扫.mp4 开始下载！！\n",
      "6-1湖北一小学校园内有座烈士墓，师生数十年默默守护祭扫.mp4 下载成功！\n",
      "6-1老师借2万创业,他大三买车大四买房.mp4 开始下载！！\n",
      "6-1老师借2万创业,他大三买车大四买房.mp4 下载成功！\n"
     ]
    }
   ],
   "source": [
    "# 使用线程池对视频数据进行请求\n",
    "def get_video_data(dic):\n",
    "    url = dic['url']\n",
    "    data = requests.get(url=url, headers=headers).content\n",
    "    print(dic['name'],\"开始下载！！\")\n",
    "    # 持久化存储操作\n",
    "    with open(dic['name'], 'wb') as fp:\n",
    "        fp.write(data)\n",
    "        print(dic['name'],\"下载成功！\")\n",
    "    pass\n",
    "\n",
    "pool = Pool(3)\n",
    "pool.map(get_video_data, urls_end)\n",
    "\n",
    "pool.close()\n",
    "pool.join()"
   ]
  },
  {
   "cell_type": "markdown",
   "metadata": {},
   "source": [
    "##### 异步协程\n",
    "对于所有以async定义的函数，返回值是一个coroutine object  \n",
    "详细可搜索python协程"
   ]
  },
  {
   "cell_type": "code",
   "execution_count": null,
   "metadata": {},
   "outputs": [],
   "source": [
    "\n",
    "import asyncio\n",
    "\n",
    "async def request(url):\n",
    "    print(\"正在请求的url\", url)\n",
    "    print(\"请求成功\",url)\n",
    "\n",
    "# async修饰的函数，掉用之后返回的一个协程对象\n",
    "c = request(\"www.baidu.com\")\n",
    "\n",
    "# 创建一个事件循环对象\n",
    "loop = asyncio.get_event_loop()\n",
    "\n",
    "# 将协程对象注册到loop中，然后启动loop\n",
    "loop.run_until_complete(c)\n",
    "\n"
   ]
  },
  {
   "cell_type": "code",
   "execution_count": null,
   "metadata": {},
   "outputs": [],
   "source": []
  }
 ],
 "metadata": {
  "kernelspec": {
   "display_name": "Python 3.10.0 ('venv': venv)",
   "language": "python",
   "name": "python3"
  },
  "language_info": {
   "codemirror_mode": {
    "name": "ipython",
    "version": 3
   },
   "file_extension": ".py",
   "mimetype": "text/x-python",
   "name": "python",
   "nbconvert_exporter": "python",
   "pygments_lexer": "ipython3",
   "version": "3.10.0"
  },
  "orig_nbformat": 4,
  "vscode": {
   "interpreter": {
    "hash": "22653fad1ec7eb65fd39a07313161974f5ef37b5e809feadcebc71d4fb2e1ad2"
   }
  }
 },
 "nbformat": 4,
 "nbformat_minor": 2
}
