{
 "cells": [
  {
   "cell_type": "markdown",
   "metadata": {},
   "source": [
    "## xpath\n",
    "最常用且最便捷高效的一种解析方式，通用性  \n",
    "环境：lxml\n",
    "\n",
    "- 解析原理\n",
    "  1. 实例化一个etree的对象，且需要将被解析的页面源码数据加载到该对象中\n",
    "  2. 调用etree对象中的xpath方法结合着xpath表达式实现标签的定位和内容的捕获\n",
    "\n",
    "- 实例化etree对象\n",
    "  1. 将本地中的html文档加载到etree对象中\n",
    "     - etree.parse(filePath)\n",
    "  2. 将互联网上获取到的源码数据加载到该对象中\n",
    "     - etrr.HTML('page_text')\n",
    "  3. xpath('xpath表达式')\n",
    "     - / 表示的是从根节点进行定位，表示的是一个层级\n",
    "     - // 表示的是多个层级。//在最前面可以表示从任意位置进行定位\n",
    "     - 属性定位：//div[@class='song'] //tag[@]\n",
    "     - 索引定位：//div[@class=\"song\"]/p[3]\n",
    "     - 取文本：/test()获取的是标签中直系的文本内容；//text()获取的是标签下面所有的文本内容\n",
    "     - 取属性：/@attrName  => img/@src"
   ]
  },
  {
   "cell_type": "markdown",
   "metadata": {},
   "source": [
    "### xpath helper\n",
    "这个工具可以之间获取到浏览器中的xpath  \n",
    "进一步简化爬取的步骤和难度"
   ]
  },
  {
   "cell_type": "code",
   "execution_count": null,
   "metadata": {},
   "outputs": [],
   "source": [
    "from lxml import etree\n",
    "# 实例化好了一个etree对象，且将被解析的源码加载到了该对象当中\n",
    "tree= etree.parse('test.html')\n",
    "\n",
    "tree.xpath('/html/head/title')\n",
    "\n",
    "tree.xpath('/html//div')\n",
    "\n",
    "tree.xpath('//div')\n",
    "# 属性定位，返回的是一个列表\n",
    "tree.xpath('//div[@class=\"song\"]')\n",
    "# 索引定位，缩影是从1开始\n",
    "tree.xpath('//div[@class=\"song\"]/p[3]')\n",
    "# 取文本\n",
    "tree.xpath('//div[@class=\"song\"]/p[3]/a/text()')[0]\n",
    "tree.xpaht('//div[@class=\"song\"]/p[7]//text()')\n",
    "# 取属性\n",
    "tree.xpath('//div[@class=\"song\"]/img/@src')\n"
   ]
  }
 ],
 "metadata": {
  "kernelspec": {
   "display_name": "Python 3.10.0 ('venv': venv)",
   "language": "python",
   "name": "python3"
  },
  "language_info": {
   "name": "python",
   "version": "3.10.0"
  },
  "orig_nbformat": 4,
  "vscode": {
   "interpreter": {
    "hash": "22653fad1ec7eb65fd39a07313161974f5ef37b5e809feadcebc71d4fb2e1ad2"
   }
  }
 },
 "nbformat": 4,
 "nbformat_minor": 2
}
