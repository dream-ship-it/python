{
 "cells": [
  {
   "cell_type": "markdown",
   "metadata": {},
   "source": [
    "## 网页采集器\n",
    "基于查询内容爬取对应页面"
   ]
  },
  {
   "cell_type": "code",
   "execution_count": 4,
   "metadata": {},
   "outputs": [
    {
     "name": "stdout",
     "output_type": "stream",
     "text": [
      "2-2卓越.html 保存成功！！！\n"
     ]
    }
   ],
   "source": [
    "\n",
    "'''\n",
    "    UA检测:\n",
    "    UA：User-Agent（请求载体的身份标识）\n",
    "    门户网站的服务器回检测对应的请求的载体身份标识，\n",
    "    如果检测到请求的载体身份标识为某一浏览器，说明该请求是一个正常的请求\n",
    "    但是检测请求的载体身份标识不是基于某一个浏览器，则标识该请求为不正常请求\n",
    "'''\n",
    "\n",
    "import requests\n",
    "\n",
    "url = 'https://www.sogou.com/web'\n",
    "\n",
    "'''\n",
    "    UA伪装\n",
    "    让爬虫对应的请求载体身份标识伪装成某一款浏览器    \n",
    "'''\n",
    "headers = {\n",
    "    'User-Agent':'Mozilla/5.0 (Windows NT 10.0; Win64; x64) AppleWebKit/537.36 (KHTML, like Gecko) Chrome/105.0.0.0 Safari/537.36'\n",
    "}\n",
    "\n",
    "# 处理url携带的参数\n",
    "# 封装到字典中\n",
    "kw = input('enter a word:')\n",
    "\n",
    "param = {\n",
    "    'query':kw\n",
    "} \n",
    "\n",
    "# 对指定的url发起的请求是携带参数的\n",
    "# 并且过程中加入的了参数\n",
    "resp = requests.get(url=url, params=param, headers=headers)\n",
    "\n",
    "page_text = resp.text\n",
    "\n",
    "# 指定文件名\n",
    "fileName = '2-2' + kw + '.html' \n",
    "\n",
    "with open(fileName, 'w', encoding='utf-8') as fp:\n",
    "    fp.write(page_text)\n",
    "\n",
    "print(fileName, '保存成功！！！')\n",
    "\n"
   ]
  }
 ],
 "metadata": {
  "kernelspec": {
   "display_name": "Python 3.10.0 ('venv': venv)",
   "language": "python",
   "name": "python3"
  },
  "language_info": {
   "codemirror_mode": {
    "name": "ipython",
    "version": 3
   },
   "file_extension": ".py",
   "mimetype": "text/x-python",
   "name": "python",
   "nbconvert_exporter": "python",
   "pygments_lexer": "ipython3",
   "version": "3.10.0"
  },
  "orig_nbformat": 4,
  "vscode": {
   "interpreter": {
    "hash": "22653fad1ec7eb65fd39a07313161974f5ef37b5e809feadcebc71d4fb2e1ad2"
   }
  }
 },
 "nbformat": 4,
 "nbformat_minor": 2
}
