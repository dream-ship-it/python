{
 "cells": [
  {
   "cell_type": "markdown",
   "metadata": {},
   "source": [
    "## 豆瓣电影数据爬取\n",
    "- json形式的电影详情数据\n",
    "- 向下滑，数据会变多\n",
    "\n"
   ]
  },
  {
   "cell_type": "code",
   "execution_count": 4,
   "metadata": {},
   "outputs": [
    {
     "name": "stdout",
     "output_type": "stream",
     "text": [
      "over!!!\n"
     ]
    }
   ],
   "source": [
    "import requests\n",
    "import json\n",
    "\n",
    "url = 'https://movie.douban.com/j/chart/top_list'\n",
    "\n",
    "param = {\n",
    "    'type': 24,\n",
    "    'interval_id':'100:90',\n",
    "    'action':'',\n",
    "    'start':'1',\n",
    "    'limit':'20'\n",
    "}\n",
    "\n",
    "headers = {\n",
    "    'User-Agent':'Mozilla/5.0 (Windows NT 10.0; Win64; x64) AppleWebKit/537.36 (KHTML, like Gecko) Chrome/105.0.0.0 Safari/537.36'\n",
    "}\n",
    "\n",
    "resp = requests.get(url=url, params=param, headers=headers)\n",
    "\n",
    "list_data = resp.json()\n",
    "\n",
    "# 持久化存储\n",
    "fp = open('./2-4douban.json', 'w',encoding='utf-8')\n",
    "json.dump(list_data, fp=fp, ensure_ascii=False)\n",
    "\n",
    "fp.close()\n",
    "\n",
    "print('over!!!')\n",
    "\n"
   ]
  }
 ],
 "metadata": {
  "kernelspec": {
   "display_name": "Python 3.10.0 ('venv': venv)",
   "language": "python",
   "name": "python3"
  },
  "language_info": {
   "codemirror_mode": {
    "name": "ipython",
    "version": 3
   },
   "file_extension": ".py",
   "mimetype": "text/x-python",
   "name": "python",
   "nbconvert_exporter": "python",
   "pygments_lexer": "ipython3",
   "version": "3.10.0"
  },
  "orig_nbformat": 4,
  "vscode": {
   "interpreter": {
    "hash": "22653fad1ec7eb65fd39a07313161974f5ef37b5e809feadcebc71d4fb2e1ad2"
   }
  }
 },
 "nbformat": 4,
 "nbformat_minor": 2
}
