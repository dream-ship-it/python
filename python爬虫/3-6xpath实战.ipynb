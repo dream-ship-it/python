{
 "cells": [
  {
   "cell_type": "markdown",
   "metadata": {},
   "source": [
    "## xpath实战\n",
    "二手房  \n",
    "五八同城二手数据获取\n",
    "https://bj.58.com/ershoufang/"
   ]
  },
  {
   "cell_type": "code",
   "execution_count": 18,
   "metadata": {},
   "outputs": [],
   "source": [
    "from lxml import etree\n",
    "import requests\n",
    "\n",
    "url = 'https://bj.58.com/ershoufang/'\n",
    "\n",
    "headers = {\n",
    "    'User-Agent':'Mozilla/5.0 (Windows NT 10.0; Win64; x64) AppleWebKit/537.36 (KHTML, like Gecko) Chrome/105.0.0.0 Safari/537.36'\n",
    "}\n",
    "\n",
    "page_text = requests.get(url=url, headers=headers).text\n",
    "\n",
    "tree = etree.HTML(page_text)\n",
    "\n",
    "# 得到链接\n",
    "href_list = tree.xpath('//section[@class=\"list\"]/div/a/@href')\n",
    "# print(href_list)\n",
    "\n",
    "# 获取名字\n",
    "name_list = tree.xpath('//section[@class=\"list\"]/div//div[@class=\"property-content-title\"]/h3/text()')\n",
    "# print(name_list)\n",
    "\n",
    "with open('3-6_58二手房.txt', 'w', encoding='utf-8') as fp:\n",
    "    for i in range(len(href_list)):\n",
    "        fp.write(name_list[i] + \":\" + href_list[i] + '\\n')\n"
   ]
  },
  {
   "cell_type": "markdown",
   "metadata": {},
   "source": [
    "## 4K图片获取"
   ]
  },
  {
   "cell_type": "code",
   "execution_count": 27,
   "metadata": {},
   "outputs": [
    {
     "name": "stdout",
     "output_type": "stream",
     "text": [
      "姜贞羽_长发_华丽裙子_水.jpg 下载成功\n",
      "姜贞羽4k桌面壁纸.jpg 下载成功\n",
      "姜贞羽4k电脑壁纸.jpg 下载成功\n",
      "姜贞羽4k超清壁纸.jpg 下载成功\n",
      "cosplay美女_电脑桌_键盘.jpg 下载成功\n",
      "漂亮少数民族美女4k壁纸.jpg 下载成功\n",
      "家居_可爱小姐姐_侧躺_好.jpg 下载成功\n",
      "海琴烟_同人_cosplay美女.jpg 下载成功\n",
      "居家_沙发_好看衣服_短裙.jpg 下载成功\n",
      "古韵_气质_美女_美腿_古.jpg 下载成功\n",
      "可爱长发美女孔雪儿4k壁.jpg 下载成功\n",
      "孔雪儿_清纯护眼美女4k壁.jpg 下载成功\n",
      "芭蕾舞美女_好看身材_美.jpg 下载成功\n",
      "漂亮芭蕾舞美女4k壁纸.jpg 下载成功\n",
      "cosplay阿狸_居家美女_兽.jpg 下载成功\n",
      "中秋节_月亮_cos_嫦娥_美.jpg 下载成功\n",
      "韩雪_蝴蝶_4k超高清美女.jpg 下载成功\n",
      "古风_仙气美女_荷花塘4k.jpg 下载成功\n",
      "大波浪长发美女张婕婕4k.jpg 下载成功\n",
      "漂亮气质美女高颜值美女.jpg 下载成功\n"
     ]
    }
   ],
   "source": [
    "from lxml import etree\n",
    "import requests\n",
    "\n",
    "url = 'https://pic.netbian.com/4kmeinv/'\n",
    "\n",
    "headers = {\n",
    "    'User-Agent':'Mozilla/5.0 (Windows NT 10.0; Win64; x64) AppleWebKit/537.36 (KHTML, like Gecko) Chrome/105.0.0.0 Safari/537.36'\n",
    "}\n",
    "\n",
    "page_text = requests.get(url=url, headers=headers).content\n",
    "\n",
    "tree = etree.HTML(page_text)\n",
    "# 获取src和名字\n",
    "src_list = tree.xpath('//div[@class=\"wrap clearfix\"]/div[@id=\"main\"]/div[@class=\"slist\"]/ul[@class=\"clearfix\"]/li/a/img/@src')\n",
    "name_list = tree.xpath('//div[@class=\"wrap clearfix\"]/div[@id=\"main\"]/div[@class=\"slist\"]/ul[@class=\"clearfix\"]/li/a/b/text()')\n",
    "\n",
    "import os\n",
    "if not os.path.exists('./3-6_pic'):\n",
    "    os.mkdir('./3-6_pic')\n",
    "\n",
    "for i in range(len(src_list)):\n",
    "    img_src = 'https://pic.netbian.com/' + src_list[i]\n",
    "    img_data = requests.get(url=img_src, headers=headers).content\n",
    "    img_name = name_list[i].replace(\" \", \"_\") + '.jpg'\n",
    "    img_path = '3-6_pic/' + img_name\n",
    "    with open(img_path, 'wb') as fp:\n",
    "        fp.write(img_data)\n",
    "        print(img_name, \"下载成功\")"
   ]
  }
 ],
 "metadata": {
  "kernelspec": {
   "display_name": "Python 3.10.0 ('venv': venv)",
   "language": "python",
   "name": "python3"
  },
  "language_info": {
   "codemirror_mode": {
    "name": "ipython",
    "version": 3
   },
   "file_extension": ".py",
   "mimetype": "text/x-python",
   "name": "python",
   "nbconvert_exporter": "python",
   "pygments_lexer": "ipython3",
   "version": "3.10.0"
  },
  "orig_nbformat": 4,
  "vscode": {
   "interpreter": {
    "hash": "22653fad1ec7eb65fd39a07313161974f5ef37b5e809feadcebc71d4fb2e1ad2"
   }
  }
 },
 "nbformat": 4,
 "nbformat_minor": 2
}
